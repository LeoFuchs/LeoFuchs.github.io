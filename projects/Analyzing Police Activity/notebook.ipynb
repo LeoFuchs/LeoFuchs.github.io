{
 "cells": [
  {
   "cell_type": "markdown",
   "metadata": {},
   "source": [
    "# Analyzing Police Activity\n",
    "* Based on a project presented at <a href=\"https://www.datacamp.com/projects/558\"> Datacamp</a>, but with more analyzes performed"
   ]
  },
  {
   "cell_type": "markdown",
   "metadata": {},
   "source": [
    "## Police Activity\n",
    "\n",
    "This analysis is based on the course \"Analyzing Police Activity\" from (DataCamp) [https://learn.datacamp.com/courses/analyzing-police-activity-with-pandas].\n",
    "\n",
    "The dataset used is provided from Stanford Open Policing Project and represent the traffic stops by the police officers. \n",
    "\n",
    "Each row in this dataset represents one traffic stop.\n",
    "\n",
    "The structure of this notebook is as follows:\n"
   ]
  },
  {
   "cell_type": "code",
   "execution_count": 46,
   "metadata": {},
   "outputs": [
    {
     "output_type": "execute_result",
     "data": {
      "text/plain": "  state   stop_date stop_time  county_name driver_gender driver_race  \\\n0    RI  2005-01-04     12:55          NaN             M       White   \n1    RI  2005-01-23     23:15          NaN             M       White   \n2    RI  2005-02-17     04:15          NaN             M       White   \n3    RI  2005-02-20     17:15          NaN             M       White   \n4    RI  2005-02-24     01:20          NaN             F       White   \n\n                    violation_raw  violation  search_conducted search_type  \\\n0  Equipment/Inspection Violation  Equipment             False         NaN   \n1                        Speeding   Speeding             False         NaN   \n2                        Speeding   Speeding             False         NaN   \n3                Call for Service      Other             False         NaN   \n4                        Speeding   Speeding             False         NaN   \n\n    stop_outcome is_arrested stop_duration  drugs_related_stop district  \n0       Citation       False      0-15 Min               False  Zone X4  \n1       Citation       False      0-15 Min               False  Zone K3  \n2       Citation       False      0-15 Min               False  Zone X4  \n3  Arrest Driver        True     16-30 Min               False  Zone X1  \n4       Citation       False      0-15 Min               False  Zone X3  ",
      "text/html": "<div>\n<style scoped>\n    .dataframe tbody tr th:only-of-type {\n        vertical-align: middle;\n    }\n\n    .dataframe tbody tr th {\n        vertical-align: top;\n    }\n\n    .dataframe thead th {\n        text-align: right;\n    }\n</style>\n<table border=\"1\" class=\"dataframe\">\n  <thead>\n    <tr style=\"text-align: right;\">\n      <th></th>\n      <th>state</th>\n      <th>stop_date</th>\n      <th>stop_time</th>\n      <th>county_name</th>\n      <th>driver_gender</th>\n      <th>driver_race</th>\n      <th>violation_raw</th>\n      <th>violation</th>\n      <th>search_conducted</th>\n      <th>search_type</th>\n      <th>stop_outcome</th>\n      <th>is_arrested</th>\n      <th>stop_duration</th>\n      <th>drugs_related_stop</th>\n      <th>district</th>\n    </tr>\n  </thead>\n  <tbody>\n    <tr>\n      <th>0</th>\n      <td>RI</td>\n      <td>2005-01-04</td>\n      <td>12:55</td>\n      <td>NaN</td>\n      <td>M</td>\n      <td>White</td>\n      <td>Equipment/Inspection Violation</td>\n      <td>Equipment</td>\n      <td>False</td>\n      <td>NaN</td>\n      <td>Citation</td>\n      <td>False</td>\n      <td>0-15 Min</td>\n      <td>False</td>\n      <td>Zone X4</td>\n    </tr>\n    <tr>\n      <th>1</th>\n      <td>RI</td>\n      <td>2005-01-23</td>\n      <td>23:15</td>\n      <td>NaN</td>\n      <td>M</td>\n      <td>White</td>\n      <td>Speeding</td>\n      <td>Speeding</td>\n      <td>False</td>\n      <td>NaN</td>\n      <td>Citation</td>\n      <td>False</td>\n      <td>0-15 Min</td>\n      <td>False</td>\n      <td>Zone K3</td>\n    </tr>\n    <tr>\n      <th>2</th>\n      <td>RI</td>\n      <td>2005-02-17</td>\n      <td>04:15</td>\n      <td>NaN</td>\n      <td>M</td>\n      <td>White</td>\n      <td>Speeding</td>\n      <td>Speeding</td>\n      <td>False</td>\n      <td>NaN</td>\n      <td>Citation</td>\n      <td>False</td>\n      <td>0-15 Min</td>\n      <td>False</td>\n      <td>Zone X4</td>\n    </tr>\n    <tr>\n      <th>3</th>\n      <td>RI</td>\n      <td>2005-02-20</td>\n      <td>17:15</td>\n      <td>NaN</td>\n      <td>M</td>\n      <td>White</td>\n      <td>Call for Service</td>\n      <td>Other</td>\n      <td>False</td>\n      <td>NaN</td>\n      <td>Arrest Driver</td>\n      <td>True</td>\n      <td>16-30 Min</td>\n      <td>False</td>\n      <td>Zone X1</td>\n    </tr>\n    <tr>\n      <th>4</th>\n      <td>RI</td>\n      <td>2005-02-24</td>\n      <td>01:20</td>\n      <td>NaN</td>\n      <td>F</td>\n      <td>White</td>\n      <td>Speeding</td>\n      <td>Speeding</td>\n      <td>False</td>\n      <td>NaN</td>\n      <td>Citation</td>\n      <td>False</td>\n      <td>0-15 Min</td>\n      <td>False</td>\n      <td>Zone X3</td>\n    </tr>\n  </tbody>\n</table>\n</div>"
     },
     "metadata": {},
     "execution_count": 46
    }
   ],
   "source": [
    "import pandas as pd\n",
    "\n",
    "ri = pd.read_csv('datasets/police.data')\n",
    "ri.head()"
   ]
  },
  {
   "cell_type": "markdown",
   "metadata": {},
   "source": [
    "## 1 - Preparing the data for analysis\n",
    "\n",
    "Before beginning the analysis, it is critical  examine and clean the dataset, to make working with it a more efficient process. In this dataset, is necessary fixing data types, handling missing values, and dropping columns and rows. while learning about the Stanford Open Policing Project dataset. \n"
   ]
  },
  {
   "cell_type": "code",
   "execution_count": 47,
   "metadata": {},
   "outputs": [
    {
     "output_type": "stream",
     "name": "stdout",
     "text": "Number of NaN values in each column:\nstate                     0\nstop_date                 0\nstop_time                 0\ncounty_name           91741\ndriver_gender          5205\ndriver_race            5202\nviolation_raw          5202\nviolation              5202\nsearch_conducted          0\nsearch_type           88434\nstop_outcome           5202\nis_arrested            5202\nstop_duration          5202\ndrugs_related_stop        0\ndistrict                  0\ndtype: int64\n\nShape: (91741, 15)\n"
    }
   ],
   "source": [
    "# Locating missing values\n",
    "print(\"Number of NaN values in each column:\\n\" + str(ri.isnull().sum()))\n",
    "\n",
    "print(\"\\nShape: \" + str(ri.shape))"
   ]
  },
  {
   "cell_type": "markdown",
   "metadata": {},
   "source": [
    "With this analysis, we can note that the columns 'county_name' and 'search_type' almost just have NaN values. Besides that, this dataset is restrict for just one state from US, so the column 'state' is useless. Then, we are drop this three columns from the DataFrame. "
   ]
  },
  {
   "cell_type": "code",
   "execution_count": 48,
   "metadata": {},
   "outputs": [],
   "source": [
    "# Droping the 'county_name' and 'search_type' columns\n",
    "ri.drop(['county_name', 'search_type', 'state'], axis='columns', inplace=True)"
   ]
  },
  {
   "cell_type": "markdown",
   "metadata": {},
   "source": [
    "Consider that the 'driver_gender' and 'violation' columns are critical to the analysis, and thus a row is useless without that data. With this arguments, we drop the rows that do not have one of this values."
   ]
  },
  {
   "cell_type": "code",
   "execution_count": 49,
   "metadata": {},
   "outputs": [],
   "source": [
    "# Droping the rows with NaN in 'driver_gender' or 'violation'\n",
    "ri.dropna(subset=['driver_gender', 'violation'], inplace=True)"
   ]
  },
  {
   "cell_type": "code",
   "execution_count": 50,
   "metadata": {},
   "outputs": [
    {
     "output_type": "stream",
     "name": "stdout",
     "text": "Number of NaN values in each column:\nstop_date             0\nstop_time             0\ndriver_gender         0\ndriver_race           0\nviolation_raw         0\nviolation             0\nsearch_conducted      0\nstop_outcome          0\nis_arrested           0\nstop_duration         0\ndrugs_related_stop    0\ndistrict              0\ndtype: int64\n\nShape: (86536, 12)\n"
    }
   ],
   "source": [
    "# Locating missing values\n",
    "print(\"Number of NaN values in each column:\\n\" + str(ri.isnull().sum()))\n",
    "\n",
    "print(\"\\nShape: \" + str(ri.shape))"
   ]
  },
  {
   "cell_type": "markdown",
   "metadata": {},
   "source": [
    "## Exploring the relationship between gender and policing\n",
    "\n",
    "Does the gender of a driver have an impact on police behavior during a traffic stop? This question are answred while practicing filtering, grouping, method chaining, Boolean math, and string methods."
   ]
  },
  {
   "cell_type": "code",
   "execution_count": 53,
   "metadata": {},
   "outputs": [
    {
     "output_type": "execute_result",
     "data": {
      "text/plain": "Speeding               48423\nMoving violation       16224\nEquipment              10921\nOther                   4409\nRegistration/plates     3703\nSeat belt               2856\nName: violation, dtype: int64"
     },
     "metadata": {},
     "execution_count": 53
    }
   ],
   "source": [
    "# Counting unique values\n",
    "ri['violation'].value_counts()"
   ]
  },
  {
   "cell_type": "code",
   "execution_count": 54,
   "metadata": {},
   "outputs": [
    {
     "output_type": "execute_result",
     "data": {
      "text/plain": "Speeding               0.559571\nMoving violation       0.187483\nEquipment              0.126202\nOther                  0.050950\nRegistration/plates    0.042791\nSeat belt              0.033004\nName: violation, dtype: float64"
     },
     "metadata": {},
     "execution_count": 54
    }
   ],
   "source": [
    "# Counting unique values\n",
    "ri['violation'].value_counts(normalize=True)"
   ]
  },
  {
   "cell_type": "markdown",
   "metadata": {},
   "source": [
    "The question we are trying to answer is whether male and female drivers tend to commit different types of traffic violations."
   ]
  },
  {
   "cell_type": "code",
   "execution_count": 62,
   "metadata": {},
   "outputs": [
    {
     "output_type": "stream",
     "name": "stdout",
     "text": "- Most Common Female Violations:\nSpeeding               0.658114\nMoving violation       0.138218\nEquipment              0.105199\nRegistration/plates    0.044418\nOther                  0.029738\nSeat belt              0.024312\nName: violation, dtype: float64\n\n\n- Most Common Male Violations:\nSpeeding               0.522243\nMoving violation       0.206144\nEquipment              0.134158\nOther                  0.058985\nRegistration/plates    0.042175\nSeat belt              0.036296\nName: violation, dtype: float64\n"
    }
   ],
   "source": [
    "# Create a DataFrame of female drivers\n",
    "female = ri[ri['driver_gender'] == 'F']\n",
    "\n",
    "# Create a DataFrame of male drivers\n",
    "male = ri[ri['driver_gender'] == 'M']\n",
    "\n",
    "# Compute the violations by female drivers (as proportions)\n",
    "print(\"- Most Common Female Violations:\\n\" + str(female['violation'].value_counts(normalize=True)))\n",
    "\n",
    "print('\\n')\n",
    "\n",
    "# Compute the violations by male drivers (as proportions)\n",
    "print(\"- Most Common Male Violations:\\n\" + str(male['violation'].value_counts(normalize=True)))"
   ]
  },
  {
   "cell_type": "code",
   "execution_count": null,
   "metadata": {},
   "outputs": [],
   "source": []
  }
 ],
 "metadata": {
  "kernelspec": {
   "display_name": "Python 3",
   "language": "python",
   "name": "python3"
  },
  "language_info": {
   "codemirror_mode": {
    "name": "ipython",
    "version": 3
   },
   "file_extension": ".py",
   "mimetype": "text/x-python",
   "name": "python",
   "nbconvert_exporter": "python",
   "pygments_lexer": "ipython3",
   "version": "3.7.6-final"
  }
 },
 "nbformat": 4,
 "nbformat_minor": 2
}