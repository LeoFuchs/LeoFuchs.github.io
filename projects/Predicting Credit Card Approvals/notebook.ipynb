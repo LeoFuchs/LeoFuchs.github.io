{
 "cells": [
  {
   "cell_type": "markdown",
   "metadata": {},
   "source": [
    "# Predicting Credit Card Approvals\n",
    "\\* Based on a project presented at <a href=\"https://www.datacamp.com/projects/558\"> Datacamp</a>, but with more analyzes performed"
   ]
  },
  {
   "cell_type": "markdown",
   "metadata": {},
   "source": [
    "## Credit Card Applications\n",
    "\n",
    "<p>Commercial banks receive <em>a lot</em> of applications for credit cards. Many of them get rejected for many reasons, like high loan balances, low income levels, or too many inquiries on an individual's credit report, for example. Manually analyzing these applications is mundane, error-prone, and time-consuming. Luckily, this task can be automated with the power of machine learning and pretty much every commercial bank does so nowadays. In this notebook, we will build an automatic credit card approval predictor using machine learning techniques, just like the real banks do.</p>\n",
    "<p><img src=\"https://assets.datacamp.com/production/project_558/img/credit_card.jpg\" alt=\"Credit card being held in hand\"></p>\n",
    "<p>We'll use the <a href=\"http://archive.ics.uci.edu/ml/datasets/credit+approval\">Credit Card Approval Dataset</a> from the UCI Machine Learning Repository. The structure of this notebook is as follows:</p>\n",
    "<ul>\n",
    "<li>First, we will start off by loading and viewing the dataset.</li>\n",
    "<li>We will see that the dataset has a mixture of both numerical and non-numerical features, that it contains values from different ranges, plus that it contains a number of missing entries.</li>\n",
    "<li>We will have to preprocess the dataset to ensure the machine learning model we choose can make good predictions.</li>\n",
    "<li>After our data is in good shape, we will do some exploratory data analysis to build our intuitions.</li>\n",
    "<li>Finally, we will build some machine learning models that can predict if an individual application for a credit card will be accepted.</li>\n",
    "</ul>"
   ]
  },
  {
   "cell_type": "markdown",
   "metadata": {},
   "source": [
    "## 1. Loading and Viewing the Dataset\n",
    "\n",
    "<p>First, loading and viewing the dataset. We find that since this data is confidential, the contributor of the dataset has anonymized the feature names.</p>"
   ]
  },
  {
   "cell_type": "code",
   "execution_count": 1,
   "metadata": {},
   "outputs": [
    {
     "name": "stdout",
     "output_type": "stream",
     "text": [
      "  0      1      2  3  4  5  6     7  8  9   10 11 12     13   14 15\n",
      "0  b  30.83  0.000  u  g  w  v  1.25  t  t   1  f  g  00202    0  +\n",
      "1  a  58.67  4.460  u  g  q  h  3.04  t  t   6  f  g  00043  560  +\n",
      "2  a  24.50  0.500  u  g  q  h  1.50  t  f   0  f  g  00280  824  +\n",
      "3  b  27.83  1.540  u  g  w  v  3.75  t  t   5  t  g  00100    3  +\n",
      "4  b  20.17  5.625  u  g  w  v  1.71  t  f   0  f  s  00120    0  +\n"
     ]
    }
   ],
   "source": [
    "# Import pandas\n",
    "import pandas as pd\n",
    "\n",
    "# Loading dataset\n",
    "cc_apps = pd.read_csv(\"datasets/cc_approvals.data\", header=None)\n",
    "\n",
    "# Viewing the header of the dataset\n",
    "print(cc_apps.head())"
   ]
  },
  {
   "cell_type": "markdown",
   "metadata": {},
   "source": [
    "## 2. Inspecting the Application\n",
    "\n",
    "<p>The output may appear a bit confusing at its first sight, but let's try to figure out the most important features of a credit card application. The features of this dataset have been anonymized to protect the privacy, but <a href=\"http://rstudio-pubs-static.s3.amazonaws.com/73039_9946de135c0a49daa7a0a9eda4a67a72.html\">this blog</a> gives us a pretty good overview of the probable features. The probable features in a typical credit card application are <code>Gender</code>, <code>Age</code>, <code>Debt</code>, <code>Married</code>, <code>BankCustomer</code>, <code>EducationLevel</code>, <code>Ethnicity</code>, <code>YearsEmployed</code>, <code>PriorDefault</code>, <code>Employed</code>, <code>CreditScore</code>, <code>DriversLicense</code>, <code>Citizen</code>, <code>ZipCode</code>, <code>Income</code> and finally the <code>ApprovalStatus</code>. This gives us a pretty good starting point, and we can map these features with respect to the columns in the output.   </p>\n",
    "\n",
    "<p>As we can see from our first glance at the data, the dataset has a mixture of numerical and non-numerical features. This can be fixed with some preprocessing, but before we do that, let's learn about the dataset a bit more to see if there are other dataset issues that need to be fixed.</p>"
   ]
  },
  {
   "cell_type": "code",
   "execution_count": 2,
   "metadata": {
    "scrolled": false
   },
   "outputs": [
    {
     "name": "stdout",
     "output_type": "stream",
     "text": [
      "    Gender    Age    Debt Married BankCustomer EducationLevel Ethnicity  \\\n",
      "673      ?  29.50   2.000       y            p              e         h   \n",
      "674      a  37.33   2.500       u            g              i         h   \n",
      "675      a  41.58   1.040       u            g             aa         v   \n",
      "676      a  30.58  10.665       u            g              q         h   \n",
      "677      b  19.42   7.250       u            g              m         v   \n",
      "678      a  17.92  10.210       u            g             ff        ff   \n",
      "679      a  20.08   1.250       u            g              c         v   \n",
      "680      b  19.50   0.290       u            g              k         v   \n",
      "681      b  27.83   1.000       y            p              d         h   \n",
      "682      b  17.08   3.290       u            g              i         v   \n",
      "683      b  36.42   0.750       y            p              d         v   \n",
      "684      b  40.58   3.290       u            g              m         v   \n",
      "685      b  21.08  10.085       y            p              e         h   \n",
      "686      a  22.67   0.750       u            g              c         v   \n",
      "687      a  25.25  13.500       y            p             ff        ff   \n",
      "688      b  17.92   0.205       u            g             aa         v   \n",
      "689      b  35.00   3.375       u            g              c         h   \n",
      "\n",
      "     YearsEmployed PriorDefault Employed  CreditScore DriversLicense Citizen  \\\n",
      "673          2.000            f        f            0              f       g   \n",
      "674          0.210            f        f            0              f       g   \n",
      "675          0.665            f        f            0              f       g   \n",
      "676          0.085            f        t           12              t       g   \n",
      "677          0.040            f        t            1              f       g   \n",
      "678          0.000            f        f            0              f       g   \n",
      "679          0.000            f        f            0              f       g   \n",
      "680          0.290            f        f            0              f       g   \n",
      "681          3.000            f        f            0              f       g   \n",
      "682          0.335            f        f            0              t       g   \n",
      "683          0.585            f        f            0              f       g   \n",
      "684          3.500            f        f            0              t       s   \n",
      "685          1.250            f        f            0              f       g   \n",
      "686          2.000            f        t            2              t       g   \n",
      "687          2.000            f        t            1              t       g   \n",
      "688          0.040            f        f            0              f       g   \n",
      "689          8.290            f        f            0              t       g   \n",
      "\n",
      "    ZipCode  Income ApprovalStatus  \n",
      "673   00256      17              -  \n",
      "674   00260     246              -  \n",
      "675   00240     237              -  \n",
      "676   00129       3              -  \n",
      "677   00100       1              -  \n",
      "678   00000      50              -  \n",
      "679   00000       0              -  \n",
      "680   00280     364              -  \n",
      "681   00176     537              -  \n",
      "682   00140       2              -  \n",
      "683   00240       3              -  \n",
      "684   00400       0              -  \n",
      "685   00260       0              -  \n",
      "686   00200     394              -  \n",
      "687   00200       1              -  \n",
      "688   00280     750              -  \n",
      "689   00000       0              -  \n",
      "\n",
      "\n",
      "             Debt  YearsEmployed  CreditScore         Income\n",
      "count  690.000000     690.000000    690.00000     690.000000\n",
      "mean     4.758725       2.223406      2.40000    1017.385507\n",
      "std      4.978163       3.346513      4.86294    5210.102598\n",
      "min      0.000000       0.000000      0.00000       0.000000\n",
      "25%      1.000000       0.165000      0.00000       0.000000\n",
      "50%      2.750000       1.000000      0.00000       5.000000\n",
      "75%      7.207500       2.625000      3.00000     395.500000\n",
      "max     28.000000      28.500000     67.00000  100000.000000\n",
      "\n",
      "\n",
      "<class 'pandas.core.frame.DataFrame'>\n",
      "RangeIndex: 690 entries, 0 to 689\n",
      "Data columns (total 16 columns):\n",
      "Gender            690 non-null object\n",
      "Age               690 non-null object\n",
      "Debt              690 non-null float64\n",
      "Married           690 non-null object\n",
      "BankCustomer      690 non-null object\n",
      "EducationLevel    690 non-null object\n",
      "Ethnicity         690 non-null object\n",
      "YearsEmployed     690 non-null float64\n",
      "PriorDefault      690 non-null object\n",
      "Employed          690 non-null object\n",
      "CreditScore       690 non-null int64\n",
      "DriversLicense    690 non-null object\n",
      "Citizen           690 non-null object\n",
      "ZipCode           690 non-null object\n",
      "Income            690 non-null int64\n",
      "ApprovalStatus    690 non-null object\n",
      "dtypes: float64(2), int64(2), object(12)\n",
      "memory usage: 86.3+ KB\n",
      "None\n"
     ]
    }
   ],
   "source": [
    "# Changing the columns names\n",
    "cc_apps.columns = ['Gender', 'Age', 'Debt', 'Married', 'BankCustomer', 'EducationLevel', \n",
    "                   'Ethnicity', 'YearsEmployed', 'PriorDefault', 'Employed', 'CreditScore', \n",
    "                   'DriversLicense', 'Citizen', 'ZipCode', 'Income', 'ApprovalStatus']\n",
    "\n",
    "# Inspect missing values in the dataset\n",
    "print(cc_apps.tail(n=17))\n",
    "print(\"\\n\")\n",
    "\n",
    "# Print summary statistics\n",
    "cc_apps_description = cc_apps.describe()\n",
    "print(cc_apps_description)\n",
    "print(\"\\n\")\n",
    "\n",
    "# Print DataFrame information\n",
    "cc_apps_info = cc_apps.info()\n",
    "print(cc_apps_info)"
   ]
  },
  {
   "cell_type": "markdown",
   "metadata": {},
   "source": [
    "## 3. Handling the Missing Values (Part 1)\n",
    "\n",
    "<p>We've uncovered some issues that will affect the performance of our machine learning models if they go unchanged:</p>\n",
    "<ul>\n",
    "<li>The dataset contains both numeric and non-numeric data (specifically data that are of <code>float64</code>, <code>int64</code> and <code>object</code> types). Specifically, the features <code>Debt</code>, <code>YearsEmployed</code>, <code>CreditScore</code> and <code>Income</code> contain numeric values (of types float64, float64, int64 and int64 respectively) and all the other features contain non-numeric values.</li>\n",
    "<li>The dataset also contains values from several ranges. Some features have a value range (min and max values) of 0 to 28 (<code>Debt</code> and <code>YearsEmployed</code>), some have a range of 2 to 67 (<code>CreditScore</code>) and some have a range of 1017 to 100000 (<code>Income</code>). Apart from these, we can get useful statistical information (like <code>mean</code>, <code>max</code>, and <code>min</code>) about the features that have numerical values. </li>\n",
    "<li>Finally, the dataset has missing values, which we'll take care of in this task. The missing values in the dataset are labeled with '?' and will be converted into more interesting values for machine learning algorithms.</li>\n",
    "</ul>\n",
    "<p>For now, let's temporarily replace these missing value question marks with NaN.</p>"
   ]
  },
  {
   "cell_type": "code",
   "execution_count": 3,
   "metadata": {
    "scrolled": false
   },
   "outputs": [
    {
     "name": "stdout",
     "output_type": "stream",
     "text": [
      "673    ?\n",
      "674    a\n",
      "675    a\n",
      "676    a\n",
      "677    b\n",
      "678    a\n",
      "679    a\n",
      "680    b\n",
      "681    b\n",
      "682    b\n",
      "683    b\n",
      "684    b\n",
      "685    b\n",
      "686    a\n",
      "687    a\n",
      "688    b\n",
      "689    b\n",
      "Name: Gender, dtype: object\n",
      "\n",
      "\n",
      "673    NaN\n",
      "674      a\n",
      "675      a\n",
      "676      a\n",
      "677      b\n",
      "678      a\n",
      "679      a\n",
      "680      b\n",
      "681      b\n",
      "682      b\n",
      "683      b\n",
      "684      b\n",
      "685      b\n",
      "686      a\n",
      "687      a\n",
      "688      b\n",
      "689      b\n",
      "Name: Gender, dtype: object\n"
     ]
    }
   ],
   "source": [
    "# Import numpy\n",
    "import numpy as np\n",
    "\n",
    "# Inspect missing values in the dataset (column Gender have one example)\n",
    "print(cc_apps.Gender.tail(n=17))\n",
    "print(\"\\n\")\n",
    "\n",
    "# Replace the '?'s with NaN\n",
    "cc_apps = cc_apps.replace('?', np.NaN)\n",
    "\n",
    "# Inspect the missing values again\n",
    "print(cc_apps.Gender.tail(n=17))"
   ]
  },
  {
   "cell_type": "markdown",
   "metadata": {},
   "source": [
    "## 4. Handling the Missing Values (Part 2)\n",
    "\n",
    "<p>We replaced all the question marks with NaNs. This is going to help us in the next missing value treatment that we are going to perform.</p>\n",
    "<p>An important question that gets raised here is <em>why are we giving so much importance to missing values</em>? Can't they be just ignored? Ignoring missing values can affect the performance of a machine learning model heavily. While ignoring the missing values our machine learning model may miss out on information about the dataset that may be useful for its training. Then, there are many models which cannot handle missing values implicitly. </p>\n",
    "<p>So, to avoid this problem, we are going to impute the missing values with a strategy called mean imputation.</p>"
   ]
  },
  {
   "cell_type": "code",
   "execution_count": 4,
   "metadata": {},
   "outputs": [
    {
     "name": "stdout",
     "output_type": "stream",
     "text": [
      "Gender            12\n",
      "Age               12\n",
      "Debt               0\n",
      "Married            6\n",
      "BankCustomer       6\n",
      "EducationLevel     9\n",
      "Ethnicity          9\n",
      "YearsEmployed      0\n",
      "PriorDefault       0\n",
      "Employed           0\n",
      "CreditScore        0\n",
      "DriversLicense     0\n",
      "Citizen            0\n",
      "ZipCode           13\n",
      "Income             0\n",
      "ApprovalStatus     0\n",
      "dtype: int64\n"
     ]
    }
   ],
   "source": [
    "# Impute the missing (NaN) values with mean imputation\n",
    "cc_apps.fillna(cc_apps.mean(), inplace=True)\n",
    "\n",
    "# Count the number of NaNs in the dataset to verify\n",
    "print(cc_apps.isnull().sum())"
   ]
  },
  {
   "cell_type": "markdown",
   "metadata": {},
   "source": [
    "<p>Note that numeric features columns (2, 7, 10 and 14) no longer have NaN values, but the remaining columns still need to be manipulated.</p>"
   ]
  },
  {
   "cell_type": "markdown",
   "metadata": {},
   "source": [
    "## 5. Handling the Missing Values (Part 3)\n",
    "\n",
    "<p>We have successfully taken care of the missing values present in the numeric columns. There are still some missing values to be imputed for non-numeric columns (0, 1, 3, 4, 5, 6 and 13). All of these columns contain non-numeric data and this why the mean imputation strategy would not work here. This needs a different treatment. </p>\n",
    "\n",
    "<p>We are going to impute these missing values with the most frequent values as present in the respective columns. This is a <a href=\"https://www.datacamp.com/community/tutorials/categorical-data\">good practice</a> when it comes to imputing missing values for categorical data in general.</p>"
   ]
  },
  {
   "cell_type": "code",
   "execution_count": 5,
   "metadata": {},
   "outputs": [
    {
     "name": "stdout",
     "output_type": "stream",
     "text": [
      "Gender            0\n",
      "Age               0\n",
      "Debt              0\n",
      "Married           0\n",
      "BankCustomer      0\n",
      "EducationLevel    0\n",
      "Ethnicity         0\n",
      "YearsEmployed     0\n",
      "PriorDefault      0\n",
      "Employed          0\n",
      "CreditScore       0\n",
      "DriversLicense    0\n",
      "Citizen           0\n",
      "ZipCode           0\n",
      "Income            0\n",
      "ApprovalStatus    0\n",
      "dtype: int64\n"
     ]
    }
   ],
   "source": [
    "# Iterate over each column of cc_apps\n",
    "for col in cc_apps.columns:\n",
    "    # Check if the column it is a object type\n",
    "    if cc_apps[col].dtypes == 'object':\n",
    "        # Impute the missing (NaN) values with the most frequent value\n",
    "        cc_apps = cc_apps.fillna(cc_apps[col].value_counts().index[0])\n",
    "\n",
    "# Count the number of NaNs in the dataset and print the counts to verify\n",
    "print(cc_apps.isnull().sum())"
   ]
  },
  {
   "cell_type": "markdown",
   "metadata": {},
   "source": [
    "<p>Now the non-numeric features columns also don't have NaN values.</p>"
   ]
  },
  {
   "cell_type": "markdown",
   "metadata": {},
   "source": [
    "## 6. Preprocessing the Data (Part 1)\n",
    "\n",
    "<p>The missing values are now successfully handled.</p>\n",
    "<p>There is still some minor but essential data preprocessing needed before we proceed towards building our machine learning model. We are going to divide these remaining preprocessing steps into three main tasks:</p>\n",
    "<ol>\n",
    "<li>Convert the non-numeric data into numeric.</li>\n",
    "<li>Split the data into train and test sets. </li>\n",
    "<li>Scale the feature values to a uniform range.</li>\n",
    "</ol>\n",
    "\n",
    "<p>First, we will be converting all the non-numeric values into numeric ones. We do this because not only it results in a faster computation but also many machine learning models (and especially the ones developed using scikit-learn) require the data to be in a strictly numeric format. We will do this by using a technique called <a href=\"http://scikit-learn.org/stable/modules/generated/sklearn.preprocessing.LabelEncoder.html\">label encoding</a>.</p>"
   ]
  },
  {
   "cell_type": "code",
   "execution_count": 6,
   "metadata": {},
   "outputs": [
    {
     "name": "stdout",
     "output_type": "stream",
     "text": [
      "  Gender    Age   Debt Married BankCustomer EducationLevel Ethnicity  \\\n",
      "0      b  30.83  0.000       u            g              w         v   \n",
      "1      a  58.67  4.460       u            g              q         h   \n",
      "2      a  24.50  0.500       u            g              q         h   \n",
      "3      b  27.83  1.540       u            g              w         v   \n",
      "4      b  20.17  5.625       u            g              w         v   \n",
      "\n",
      "   YearsEmployed PriorDefault Employed  CreditScore DriversLicense Citizen  \\\n",
      "0           1.25            t        t            1              f       g   \n",
      "1           3.04            t        t            6              f       g   \n",
      "2           1.50            t        f            0              f       g   \n",
      "3           3.75            t        t            5              t       g   \n",
      "4           1.71            t        f            0              f       s   \n",
      "\n",
      "  ZipCode  Income ApprovalStatus  \n",
      "0   00202       0              +  \n",
      "1   00043     560              +  \n",
      "2   00280     824              +  \n",
      "3   00100       3              +  \n",
      "4   00120       0              +  \n",
      "\n",
      "\n",
      "   Gender  Age   Debt  Married  BankCustomer  EducationLevel  Ethnicity  \\\n",
      "0       1  156  0.000        2             1              13          8   \n",
      "1       0  328  4.460        2             1              11          4   \n",
      "2       0   89  0.500        2             1              11          4   \n",
      "3       1  125  1.540        2             1              13          8   \n",
      "4       1   43  5.625        2             1              13          8   \n",
      "\n",
      "   YearsEmployed  PriorDefault  Employed  CreditScore  DriversLicense  \\\n",
      "0           1.25             1         1            1               0   \n",
      "1           3.04             1         1            6               0   \n",
      "2           1.50             1         0            0               0   \n",
      "3           3.75             1         1            5               1   \n",
      "4           1.71             1         0            0               0   \n",
      "\n",
      "   Citizen  ZipCode  Income  ApprovalStatus  \n",
      "0        0       68       0               0  \n",
      "1        0       11     560               0  \n",
      "2        0       96     824               0  \n",
      "3        0       31       3               0  \n",
      "4        2       37       0               0  \n"
     ]
    }
   ],
   "source": [
    "# Import LabelEncoder\n",
    "from sklearn.preprocessing import LabelEncoder\n",
    "\n",
    "# Instantiate LabelEncoder\n",
    "le = LabelEncoder()\n",
    "\n",
    "print(cc_apps.head())\n",
    "print(\"\\n\")\n",
    "\n",
    "# Iterate over all the values of each column and extract their dtypes\n",
    "for col in cc_apps.columns.values:\n",
    "    # Compare if the dtype is a object\n",
    "    if cc_apps[col].dtype == 'object':\n",
    "    # Use LabelEncoder to do the numeric transformation\n",
    "        cc_apps[col] = le.fit_transform(cc_apps[col])\n",
    "        \n",
    "print(cc_apps.head())"
   ]
  },
  {
   "cell_type": "markdown",
   "metadata": {},
   "source": [
    "## 7. Splitting the Dataset into Train/Test Sets\n",
    "\n",
    "<p>We have successfully converted all the non-numeric values to numeric ones.</p>\n",
    "\n",
    "<p>Now, we will split our data into train set and test set to prepare our data for two different phases of machine learning modeling: training and testing. Ideally, no information from the test data should be used to scale the training data or should be used to direct the training process of a machine learning model. Hence, we first split the data and then apply the scaling.</p>\n",
    "\n",
    "<p>Also, features like <code>DriversLicense</code> and <code>ZipCode</code> are not as important as the other features in the dataset for predicting credit card approvals. We should drop them to design our machine learning model with the best set of features. In Data Science literature, this is often referred to as <em>feature selection</em>. </p>"
   ]
  },
  {
   "cell_type": "code",
   "execution_count": 7,
   "metadata": {},
   "outputs": [
    {
     "name": "stdout",
     "output_type": "stream",
     "text": [
      "   Gender  Age   Debt  Married  BankCustomer  EducationLevel  Ethnicity  \\\n",
      "0       1  156  0.000        2             1              13          8   \n",
      "1       0  328  4.460        2             1              11          4   \n",
      "2       0   89  0.500        2             1              11          4   \n",
      "3       1  125  1.540        2             1              13          8   \n",
      "4       1   43  5.625        2             1              13          8   \n",
      "\n",
      "   YearsEmployed  PriorDefault  Employed  CreditScore  Citizen  Income  \\\n",
      "0           1.25             1         1            1        0       0   \n",
      "1           3.04             1         1            6        0     560   \n",
      "2           1.50             1         0            0        0     824   \n",
      "3           3.75             1         1            5        0       3   \n",
      "4           1.71             1         0            0        2       0   \n",
      "\n",
      "   ApprovalStatus  \n",
      "0               0  \n",
      "1               0  \n",
      "2               0  \n",
      "3               0  \n",
      "4               0  \n"
     ]
    }
   ],
   "source": [
    "# Import train_test_split\n",
    "from sklearn.model_selection import train_test_split\n",
    "\n",
    "# Drop the features DriversLicense (11) and ZipCode (13) and convert the DataFrame to a NumPy array\n",
    "cc_apps = cc_apps.drop([\"DriversLicense\", \"ZipCode\"], axis=1)\n",
    "print(cc_apps.head())\n",
    "\n",
    "# Convert the Dataframe to a Np.array\n",
    "cc_apps = cc_apps.values\n",
    "\n",
    "# Segregate features and labels into X and y (X = all rows and [0...13] columns, Y = all rows and 14 column)\n",
    "X, y = cc_apps[:, 0:12] , cc_apps[:, 13]\n",
    "\n",
    "# Split into train and test sets\n",
    "X_train, X_test, y_train, y_test = train_test_split(X, y, test_size=0.33, random_state=42)"
   ]
  },
  {
   "cell_type": "markdown",
   "metadata": {},
   "source": [
    "## 8. Preprocessing the Data (Part 2)\n",
    "\n",
    "<p>The data is now split into two separate sets - train and test sets respectively. We are only left with one final preprocessing step of scaling before we can fit a machine learning model to the data. </p>\n",
    "\n",
    "<p>Now, let's try to understand what these scaled values mean in the real world. Let's use <code>CreditScore</code> as an example. The credit score of a person is their creditworthiness based on their credit history. The higher this number, the more financially trustworthy a person is considered to be. So, a <code>CreditScore</code> of 1 is the highest since we're rescaling all the values to the range of 0-1.</p>"
   ]
  },
  {
   "cell_type": "code",
   "execution_count": 8,
   "metadata": {},
   "outputs": [],
   "source": [
    "# Import MinMaxScaler\n",
    "from sklearn.preprocessing import MinMaxScaler \n",
    "\n",
    "# Instantiate MinMaxScaler and use it to rescale X_train and X_test\n",
    "scaler = MinMaxScaler(feature_range=(0, 1))\n",
    "X_train = scaler.fit_transform(X_train)\n",
    "X_test = scaler.fit_transform(X_test)"
   ]
  },
  {
   "cell_type": "markdown",
   "metadata": {},
   "source": [
    "<p>Essentially, predicting if a credit card application will be approved or not is a <a href=\"https://en.wikipedia.org/wiki/Statistical_classification\">classification</a> task. <a href=\"http://archive.ics.uci.edu/ml/machine-learning-databases/credit-screening/crx.names\">According to UCI</a>, our dataset contains more instances that correspond to \"Denied\" status than instances corresponding to \"Approved\" status. Specifically, out of 690 instances, there are 383 (55.5%) applications that got denied and 307 (44.5%) applications that got approved. </p>\n",
    "<p>This gives us a benchmark. A good machine learning model should be able to accurately predict the status of the applications with respect to these statistics.</p>\n"
   ]
  },
  {
   "cell_type": "markdown",
   "metadata": {},
   "source": [
    "## 9. Fitting a Logistic Regression Model to Making Predictions\n",
    "\n",
    "<p>Which model should we pick? A question to ask is: <em>are the features that affect the credit card approval decision process correlated with each other?</em> Although we can measure correlation, that is outside the scope of this notebook, so we'll rely on our intuition that they indeed are correlated for now. Because of this correlation, we'll take advantage of the fact that generalized linear models perform well in these cases. Let's start our machine learning modeling with a Logistic Regression model (a generalized linear model).</p>\n",
    "\n",
    "<p>We will now evaluate our model on the test set with respect to <a href=\"https://developers.google.com/machine-learning/crash-course/classification/accuracy\">classification accuracy</a>. But we will also take a look the model's <a href=\"http://www.dataschool.io/simple-guide-to-confusion-matrix-terminology/\">confusion matrix</a>. In the case of predicting credit card applications, it is equally important to see if our machine learning model is able to predict the approval status of the applications as denied that originally got denied. If our model is not performing well in this aspect, then it might end up approving the application that should have been approved. The confusion matrix helps us to view our model's performance from these aspects.  </p>\n",
    "\n",
    "<p>For the confusion matrix, the first element of the of the first row of the confusion matrix denotes the true negatives meaning the number of negative instances (denied applications) predicted by the model correctly. And the last element of the second row of the confusion matrix denotes the true positives meaning the number of positive instances (approved applications) predicted by the model correctly.</p>"
   ]
  },
  {
   "cell_type": "code",
   "execution_count": 9,
   "metadata": {},
   "outputs": [
    {
     "name": "stdout",
     "output_type": "stream",
     "text": [
      "The Confusion Matrix:\n",
      "[[93 10]\n",
      " [27 98]]\n",
      "\n",
      "\n",
      "Accuracy of Logistic Regression: 83.77%\n"
     ]
    }
   ],
   "source": [
    "# Import LogisticRegression and confusion_matrix\n",
    "from sklearn.linear_model import LogisticRegression\n",
    "from sklearn.metrics import confusion_matrix\n",
    "\n",
    "# Instantiate a LogisticRegression classifier with default parameter values\n",
    "logreg = LogisticRegression(solver='lbfgs')\n",
    "\n",
    "# Fit logreg to the train set\n",
    "logreg.fit(X_train, y_train)\n",
    "\n",
    "# Use logreg to predict instances from the test set and store it\n",
    "y_pred = logreg.predict(X_test)\n",
    "\n",
    "# Print the confusion matrix of the logreg model\n",
    "print(\"The Confusion Matrix:\")\n",
    "print(confusion_matrix(y_test, y_pred))\n",
    "print(\"\\n\")\n",
    "\n",
    "# Get the accuracy score of logreg model and print it\n",
    "acc_lr = round(logreg.score(X_test, y_test) * 100, 2)\n",
    "print(\"Accuracy of Logistic Regression: \" + str(acc_lr) + \"%\")\n"
   ]
  },
  {
   "cell_type": "markdown",
   "metadata": {},
   "source": [
    "## 10. Fitting a Support-Vector Clustering Model to Making Predictions\n",
    "\n",
    "\n",
    "Let's try now with another machine learning modeling, the Support-vector Clustering (SVC)."
   ]
  },
  {
   "cell_type": "code",
   "execution_count": 10,
   "metadata": {},
   "outputs": [
    {
     "name": "stdout",
     "output_type": "stream",
     "text": [
      "Accuracy of SVC: 84.21%\n"
     ]
    }
   ],
   "source": [
    "# Import SVC \n",
    "from sklearn.svm import SVC\n",
    "\n",
    "# Instantiate a SVC classifier with default parameter values\n",
    "svc = SVC(gamma='scale')\n",
    "\n",
    "# Fit SVC to the train set\n",
    "svc.fit(X_train, y_train)\n",
    "\n",
    "# Use SVC to predict instances from the test set and store it\n",
    "y_pred = svc.predict(X_test)\n",
    "\n",
    "# Get the accuracy score of SVC model and print it\n",
    "acc_svc = round(svc.score(X_test, y_test) * 100, 2)\n",
    "print(\"Accuracy of SVC: \" + str(acc_svc) + \"%\")"
   ]
  },
  {
   "cell_type": "markdown",
   "metadata": {},
   "source": [
    "## 11. Fitting a  K-Nearest Neighbors Model to Making Predictions\n",
    "\n",
    "\n",
    "Let's try now with another machine learning modeling, the K-Nearest Neighbors (KNN)."
   ]
  },
  {
   "cell_type": "code",
   "execution_count": 11,
   "metadata": {},
   "outputs": [
    {
     "name": "stdout",
     "output_type": "stream",
     "text": [
      "Accuracy of KNN: 87.28%\n"
     ]
    }
   ],
   "source": [
    "# Import KNN \n",
    "from sklearn.neighbors import KNeighborsClassifier\n",
    "\n",
    "# Instantiate a KNN classifier with default parameter values\n",
    "knn = KNeighborsClassifier(n_neighbors = 4)\n",
    "\n",
    "# Fit KNN to the train set\n",
    "knn.fit(X_train, y_train)\n",
    "\n",
    "# Use KNN to predict instances from the test set and store it\n",
    "y_pred = knn.predict(X_test)\n",
    "\n",
    "# Get the accuracy score of KNN model and print it\n",
    "acc_knn = round(knn.score(X_test, y_test) * 100, 2)\n",
    "print(\"Accuracy of KNN: \" + str(acc_knn) + \"%\")"
   ]
  },
  {
   "cell_type": "markdown",
   "metadata": {},
   "source": [
    "## 12. Fitting a  Gaussian Naive Bayes Model to Making Predictions\n",
    "\n",
    "\n",
    "Let's try now with another machine learning modeling, the Gaussian Naive Bayes (GNB)."
   ]
  },
  {
   "cell_type": "code",
   "execution_count": 12,
   "metadata": {},
   "outputs": [
    {
     "name": "stdout",
     "output_type": "stream",
     "text": [
      "Accuracy of GNB: 82.46%\n"
     ]
    }
   ],
   "source": [
    "# Import GaussianNB \n",
    "from sklearn.naive_bayes import GaussianNB\n",
    "\n",
    "# Instantiate a GaussianNB classifier with default parameter values\n",
    "gaussian = GaussianNB()\n",
    "\n",
    "# Fit GaussianNB to the train set\n",
    "gaussian.fit(X_train, y_train)\n",
    "\n",
    "# Use GaussianNB to predict instances from the test set and store it\n",
    "y_pred = gaussian.predict(X_test)\n",
    "\n",
    "# Get the accuracy score of GaussianNB model and print it\n",
    "acc_gnb = round(gaussian.score(X_test, y_test) * 100, 2)\n",
    "print(\"Accuracy of GNB: \" + str(acc_gnb) + \"%\")"
   ]
  },
  {
   "cell_type": "markdown",
   "metadata": {},
   "source": [
    "## 13. Fitting a  Perceptron Model to Making Predictions\n",
    "\n",
    "\n",
    "Let's try now with another machine learning modeling, the Perceptron."
   ]
  },
  {
   "cell_type": "code",
   "execution_count": 13,
   "metadata": {},
   "outputs": [
    {
     "name": "stdout",
     "output_type": "stream",
     "text": [
      "Accuracy of Perceptron: 86.4%\n"
     ]
    }
   ],
   "source": [
    "# Import Perceptron \n",
    "from sklearn.linear_model import Perceptron\n",
    "\n",
    "# Instantiate a Perceptron classifier with default parameter values\n",
    "perceptron = Perceptron(tol=0.21, random_state=0, max_iter=1000)\n",
    "\n",
    "# Fit Perceptron to the train set\n",
    "perceptron.fit(X_train, y_train)\n",
    "\n",
    "# Use Perceptron to predict instances from the test set and store it\n",
    "y_pred = perceptron.predict(X_test)\n",
    "\n",
    "# Get the accuracy score of Perceptron model and print it\n",
    "acc_per = round(perceptron.score(X_test, y_test) * 100, 2)\n",
    "print(\"Accuracy of Perceptron: \" + str(acc_per) + \"%\")"
   ]
  },
  {
   "cell_type": "markdown",
   "metadata": {},
   "source": [
    "## 14. Fitting a Linear SVC Model to Making Predictions\n",
    "\n",
    "\n",
    "Let's try now with another machine learning modeling, the Linear SVC."
   ]
  },
  {
   "cell_type": "code",
   "execution_count": 14,
   "metadata": {},
   "outputs": [
    {
     "name": "stdout",
     "output_type": "stream",
     "text": [
      "Accuracy of LinearSVC: 84.65%\n"
     ]
    }
   ],
   "source": [
    "# Import LinearSVC \n",
    "from sklearn.svm import LinearSVC\n",
    "\n",
    "# Instantiate a LinearSVC classifier with default parameter values\n",
    "linear_svc = LinearSVC()\n",
    "\n",
    "# Fit LinearSVC to the train set\n",
    "linear_svc.fit(X_train, y_train)\n",
    "\n",
    "# Use LinearSVC to predict instances from the test set and store it\n",
    "y_pred = linear_svc.predict(X_test)\n",
    "\n",
    "# Get the accuracy score of LinearSVC model and print it\n",
    "acc_lsvc = round(linear_svc.score(X_test, y_test) * 100, 2)\n",
    "print(\"Accuracy of LinearSVC: \" + str(acc_lsvc) + \"%\")"
   ]
  },
  {
   "cell_type": "markdown",
   "metadata": {},
   "source": [
    "## 15. Fitting a Stochastic Gradient Descent Model to Making Predictions\n",
    "\n",
    "\n",
    "Let's try now with another machine learning modeling, the Stochastic Gradient Descent."
   ]
  },
  {
   "cell_type": "code",
   "execution_count": 15,
   "metadata": {},
   "outputs": [
    {
     "name": "stdout",
     "output_type": "stream",
     "text": [
      "Accuracy of SGDClassifier: 79.39%\n"
     ]
    }
   ],
   "source": [
    "# Import SGDClassifier \n",
    "from sklearn.linear_model import SGDClassifier\n",
    "\n",
    "# Instantiate a SGDClassifier classifier with default parameter values\n",
    "sgd = SGDClassifier(tol=0.21, random_state=0, max_iter=1000)\n",
    "\n",
    "# Fit SGDClassifier to the train set\n",
    "sgd.fit(X_train, y_train)\n",
    "\n",
    "# Use SGDClassifier to predict instances from the test set and store it\n",
    "y_pred = sgd.predict(X_test)\n",
    "\n",
    "# Get the accuracy score of SGDClassifier model and print it\n",
    "acc_sgd = round(sgd.score(X_test, y_test) * 100, 2)\n",
    "print(\"Accuracy of SGDClassifier: \" + str(acc_sgd) + \"%\")"
   ]
  },
  {
   "cell_type": "markdown",
   "metadata": {},
   "source": [
    "## 16. Fitting a Grid Search Model to Making Preditctions\n",
    "\n",
    "<p>We have defined the grid of hyperparameter values and converted them into a single dictionary format which <code>GridSearchCV()</code> expects as one of its parameters. Now, we will begin the grid search to see which values perform best.</p>\n",
    "<p>We will instantiate <code>GridSearchCV()</code> with our earlier <code>logreg</code> model with all the data we have. Instead of passing train and test sets separately, we will supply <code>X</code> (scaled version) and <code>y</code>. We will also instruct <code>GridSearchCV()</code> to perform a <a href=\"https://www.dataschool.io/machine-learning-with-scikit-learn/\">cross-validation</a> of five folds.</p>\n",
    "<p>We'll end the notebook by storing the best-achieved score and the respective best parameters.</p>"
   ]
  },
  {
   "cell_type": "code",
   "execution_count": 16,
   "metadata": {},
   "outputs": [
    {
     "name": "stdout",
     "output_type": "stream",
     "text": [
      "Accuracy of GridSearchCV: 85.07%\n"
     ]
    }
   ],
   "source": [
    "# Import GridSearchCV\n",
    "from sklearn.model_selection import GridSearchCV\n",
    "\n",
    "# Define the grid of values for tol and max_iter\n",
    "tol = [0.01, 0.001, 0.0001]\n",
    "max_iter = [100, 150, 200]\n",
    "\n",
    "# Create a dictionary where tol and max_iter are keys and the lists of their values are corresponding values\n",
    "param_grid = dict(tol = tol, max_iter = max_iter)\n",
    "\n",
    "# Instantiate GridSearchCV with the required parameters\n",
    "grid_model = GridSearchCV(estimator=logreg, param_grid=param_grid, cv=5)\n",
    "\n",
    "# Use scaler to rescale X and assign it to rescaledX\n",
    "rescaledX = scaler.fit_transform(X)\n",
    "\n",
    "# Fit data to grid_model\n",
    "grid_model_result = grid_model.fit(rescaledX, y)\n",
    "\n",
    "# Summarize results\n",
    "best_score, best_params = grid_model_result.best_score_, grid_model_result.best_params_\n",
    "# print(\"Best: %f using %s\" % (best_score, best_params))\n",
    "\n",
    "acc_gscv = round(best_score * 100, 2)\n",
    "print(\"Accuracy of GridSearchCV: \" + str(acc_gscv) + \"%\")"
   ]
  },
  {
   "cell_type": "markdown",
   "metadata": {},
   "source": [
    "## 17. Fitting a Decision Tree Model to Making Predictions\n",
    "\n",
    "\n",
    "Let's try now with another machine learning modeling, the Decision Tree."
   ]
  },
  {
   "cell_type": "code",
   "execution_count": 17,
   "metadata": {},
   "outputs": [
    {
     "name": "stdout",
     "output_type": "stream",
     "text": [
      "Accuracy of Decision Tree: 54.39%\n"
     ]
    }
   ],
   "source": [
    "# Import DecisionTreeClassifier \n",
    "from sklearn.tree import DecisionTreeClassifier\n",
    "\n",
    "# Instantiate a Decision Tree classifier with default parameter values\n",
    "decision_tree = DecisionTreeClassifier(random_state=0)\n",
    "\n",
    "# Fit Decision Tree to the train set\n",
    "decision_tree.fit(X_train, y_train)\n",
    "\n",
    "# Use Decision Tree to predict instances from the test set and store it\n",
    "y_pred = decision_tree.predict(X_test)\n",
    "\n",
    "# Get the accuracy score of Decision Tree model and print it\n",
    "acc_dt = round(decision_tree.score(X_test, y_test) * 100, 2)\n",
    "print(\"Accuracy of Decision Tree: \" + str(acc_dt) + \"%\")"
   ]
  },
  {
   "cell_type": "markdown",
   "metadata": {},
   "source": [
    "## 18. Fitting a Random Forest Model to Making Predictions\n",
    "\n",
    "\n",
    "Let's try now with another machine learning modeling, the Random Forest."
   ]
  },
  {
   "cell_type": "code",
   "execution_count": 18,
   "metadata": {},
   "outputs": [
    {
     "name": "stdout",
     "output_type": "stream",
     "text": [
      "Accuracy of Random Forest: 85.53%\n"
     ]
    }
   ],
   "source": [
    "# Import RandomForestClassifier \n",
    "from sklearn.ensemble import RandomForestClassifier\n",
    "\n",
    "# Instantiate a Random Forest classifier with default parameter values\n",
    "random_forest = RandomForestClassifier(n_estimators=1000, random_state=0)\n",
    "\n",
    "# Fit Random Forest to the train set\n",
    "random_forest.fit(X_train, y_train)\n",
    "\n",
    "# Use Random Forest to predict instances from the test set and store it\n",
    "y_pred = random_forest.predict(X_test)\n",
    "\n",
    "# Get the accuracy score of Random Forest model and print it\n",
    "acc_rf = round(random_forest.score(X_test, y_test) * 100, 2)\n",
    "print(\"Accuracy of Random Forest: \" + str(acc_rf) + \"%\")"
   ]
  },
  {
   "cell_type": "markdown",
   "metadata": {},
   "source": [
    "## 19. Model Evaluation\n",
    "\n",
    "<p>While building this credit card predictor, we tackled some of the most widely-known preprocessing steps such as <strong>scaling</strong>, <strong>label encoding</strong>, and <strong>missing value imputation</strong>. We finished with some <strong>machine learning</strong> to predict if a person's application for a credit card would get approved or not given some information about that person.</p>\n",
    "\n",
    "<p>We can now rank our evaluation of all the models to choose the best one for our problem. KNN has the highest accuracy, despite believing that if certain parameters are adjusted in different models, the results may be different.</p>\n",
    "\n"
   ]
  },
  {
   "cell_type": "code",
   "execution_count": 19,
   "metadata": {},
   "outputs": [
    {
     "data": {
      "text/html": [
       "<div>\n",
       "<style scoped>\n",
       "    .dataframe tbody tr th:only-of-type {\n",
       "        vertical-align: middle;\n",
       "    }\n",
       "\n",
       "    .dataframe tbody tr th {\n",
       "        vertical-align: top;\n",
       "    }\n",
       "\n",
       "    .dataframe thead th {\n",
       "        text-align: right;\n",
       "    }\n",
       "</style>\n",
       "<table border=\"1\" class=\"dataframe\">\n",
       "  <thead>\n",
       "    <tr style=\"text-align: right;\">\n",
       "      <th></th>\n",
       "      <th>Model</th>\n",
       "      <th>Score</th>\n",
       "    </tr>\n",
       "  </thead>\n",
       "  <tbody>\n",
       "    <tr>\n",
       "      <th>2</th>\n",
       "      <td>KNN</td>\n",
       "      <td>87.28</td>\n",
       "    </tr>\n",
       "    <tr>\n",
       "      <th>4</th>\n",
       "      <td>Perceptron</td>\n",
       "      <td>86.40</td>\n",
       "    </tr>\n",
       "    <tr>\n",
       "      <th>9</th>\n",
       "      <td>Random Forest</td>\n",
       "      <td>85.53</td>\n",
       "    </tr>\n",
       "    <tr>\n",
       "      <th>7</th>\n",
       "      <td>Grid Search</td>\n",
       "      <td>85.07</td>\n",
       "    </tr>\n",
       "    <tr>\n",
       "      <th>5</th>\n",
       "      <td>Linear SVC</td>\n",
       "      <td>84.65</td>\n",
       "    </tr>\n",
       "    <tr>\n",
       "      <th>1</th>\n",
       "      <td>SVC</td>\n",
       "      <td>84.21</td>\n",
       "    </tr>\n",
       "    <tr>\n",
       "      <th>0</th>\n",
       "      <td>Logistic Regression</td>\n",
       "      <td>83.77</td>\n",
       "    </tr>\n",
       "    <tr>\n",
       "      <th>3</th>\n",
       "      <td>Naive Bayes</td>\n",
       "      <td>82.46</td>\n",
       "    </tr>\n",
       "    <tr>\n",
       "      <th>6</th>\n",
       "      <td>Stochastic Gradient Decent</td>\n",
       "      <td>79.39</td>\n",
       "    </tr>\n",
       "    <tr>\n",
       "      <th>8</th>\n",
       "      <td>Decision Tree</td>\n",
       "      <td>54.39</td>\n",
       "    </tr>\n",
       "  </tbody>\n",
       "</table>\n",
       "</div>"
      ],
      "text/plain": [
       "                        Model  Score\n",
       "2                         KNN  87.28\n",
       "4                  Perceptron  86.40\n",
       "9               Random Forest  85.53\n",
       "7                 Grid Search  85.07\n",
       "5                  Linear SVC  84.65\n",
       "1                         SVC  84.21\n",
       "0         Logistic Regression  83.77\n",
       "3                 Naive Bayes  82.46\n",
       "6  Stochastic Gradient Decent  79.39\n",
       "8               Decision Tree  54.39"
      ]
     },
     "execution_count": 19,
     "metadata": {},
     "output_type": "execute_result"
    }
   ],
   "source": [
    "# Create a dict with all the results\n",
    "models = pd.DataFrame({\n",
    "    'Model': ['Logistic Regression', 'SVC', 'KNN',\n",
    "              'Naive Bayes', 'Perceptron', 'Linear SVC', \n",
    "              'Stochastic Gradient Decent', 'Grid Search',\n",
    "              'Decision Tree', 'Random Forest'],\n",
    "    'Score': [acc_lr, acc_svc, acc_knn, acc_gnb, \n",
    "              acc_per, acc_lsvc, acc_sgd, acc_gscv,\n",
    "              acc_dt, acc_rf ]})\n",
    "\n",
    "models.sort_values(by='Score', ascending=False)"
   ]
  }
 ],
 "metadata": {
  "kernelspec": {
   "display_name": "Python 3",
   "language": "python",
   "name": "python3"
  },
  "language_info": {
   "codemirror_mode": {
    "name": "ipython",
    "version": 3
   },
   "file_extension": ".py",
   "mimetype": "text/x-python",
   "name": "python",
   "nbconvert_exporter": "python",
   "pygments_lexer": "ipython3",
   "version": "3.6.9"
  }
 },
 "nbformat": 4,
 "nbformat_minor": 2
}
